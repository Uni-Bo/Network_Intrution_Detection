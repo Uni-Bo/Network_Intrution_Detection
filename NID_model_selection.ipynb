{
  "cells": [
    {
      "cell_type": "markdown",
      "metadata": {
        "id": "gpR77-d_xRh8"
      },
      "source": [
        "#Network Intrusion Detection\n"
      ]
    },
    {
      "cell_type": "markdown",
      "metadata": {
        "id": "Sp5ilqDyxkdg"
      },
      "source": [
        "importing dependencies"
      ]
    },
    {
      "cell_type": "code",
      "execution_count": 1,
      "metadata": {
        "id": "-NtX2rvTxQ1P"
      },
      "outputs": [],
      "source": [
        "import numpy as np\n",
        "import pandas as pd\n",
        "import seaborn as sns\n",
        "import matplotlib.pyplot as plt\n",
        "import time\n",
        "#\n",
        "from sklearn.model_selection import GridSearchCV\n",
        "from sklearn.preprocessing import StandardScaler, LabelEncoder\n",
        "from sklearn.feature_selection import RFE\n",
        "#\n",
        "from sklearn.ensemble import RandomForestClassifier\n",
        "from sklearn.neighbors import KNeighborsClassifier\n",
        "from sklearn.linear_model import LogisticRegression\n",
        "from sklearn.tree import DecisionTreeClassifier\n",
        "#\n",
        "from tabulate import tabulate"
      ]
    },
    {
      "cell_type": "code",
      "execution_count": 2,
      "metadata": {
        "id": "gttyL_kfyM_b"
      },
      "outputs": [],
      "source": [
        "train=pd.read_csv(\"/content/Train_data.csv\")\n",
        "test=pd.read_csv(\"/content/Test_data.csv\")"
      ]
    },
    {
      "cell_type": "code",
      "execution_count": 3,
      "metadata": {
        "colab": {
          "base_uri": "https://localhost:8080/",
          "height": 255
        },
        "id": "J4aXgzGMy1pV",
        "outputId": "6d65c544-abc0-4fff-845d-dc471bf0b74d"
      },
      "outputs": [
        {
          "data": {
            "text/html": [
              "\n",
              "  <div id=\"df-d2748dd0-3069-460a-bbeb-307685bd5cd5\" class=\"colab-df-container\">\n",
              "    <div>\n",
              "<style scoped>\n",
              "    .dataframe tbody tr th:only-of-type {\n",
              "        vertical-align: middle;\n",
              "    }\n",
              "\n",
              "    .dataframe tbody tr th {\n",
              "        vertical-align: top;\n",
              "    }\n",
              "\n",
              "    .dataframe thead th {\n",
              "        text-align: right;\n",
              "    }\n",
              "</style>\n",
              "<table border=\"1\" class=\"dataframe\">\n",
              "  <thead>\n",
              "    <tr style=\"text-align: right;\">\n",
              "      <th></th>\n",
              "      <th>duration</th>\n",
              "      <th>protocol_type</th>\n",
              "      <th>service</th>\n",
              "      <th>flag</th>\n",
              "      <th>src_bytes</th>\n",
              "      <th>dst_bytes</th>\n",
              "      <th>land</th>\n",
              "      <th>wrong_fragment</th>\n",
              "      <th>urgent</th>\n",
              "      <th>hot</th>\n",
              "      <th>...</th>\n",
              "      <th>dst_host_srv_count</th>\n",
              "      <th>dst_host_same_srv_rate</th>\n",
              "      <th>dst_host_diff_srv_rate</th>\n",
              "      <th>dst_host_same_src_port_rate</th>\n",
              "      <th>dst_host_srv_diff_host_rate</th>\n",
              "      <th>dst_host_serror_rate</th>\n",
              "      <th>dst_host_srv_serror_rate</th>\n",
              "      <th>dst_host_rerror_rate</th>\n",
              "      <th>dst_host_srv_rerror_rate</th>\n",
              "      <th>class</th>\n",
              "    </tr>\n",
              "  </thead>\n",
              "  <tbody>\n",
              "    <tr>\n",
              "      <th>0</th>\n",
              "      <td>0</td>\n",
              "      <td>tcp</td>\n",
              "      <td>ftp_data</td>\n",
              "      <td>SF</td>\n",
              "      <td>491</td>\n",
              "      <td>0</td>\n",
              "      <td>0</td>\n",
              "      <td>0</td>\n",
              "      <td>0</td>\n",
              "      <td>0</td>\n",
              "      <td>...</td>\n",
              "      <td>25</td>\n",
              "      <td>0.17</td>\n",
              "      <td>0.03</td>\n",
              "      <td>0.17</td>\n",
              "      <td>0.00</td>\n",
              "      <td>0.00</td>\n",
              "      <td>0.00</td>\n",
              "      <td>0.05</td>\n",
              "      <td>0.00</td>\n",
              "      <td>normal</td>\n",
              "    </tr>\n",
              "    <tr>\n",
              "      <th>1</th>\n",
              "      <td>0</td>\n",
              "      <td>udp</td>\n",
              "      <td>other</td>\n",
              "      <td>SF</td>\n",
              "      <td>146</td>\n",
              "      <td>0</td>\n",
              "      <td>0</td>\n",
              "      <td>0</td>\n",
              "      <td>0</td>\n",
              "      <td>0</td>\n",
              "      <td>...</td>\n",
              "      <td>1</td>\n",
              "      <td>0.00</td>\n",
              "      <td>0.60</td>\n",
              "      <td>0.88</td>\n",
              "      <td>0.00</td>\n",
              "      <td>0.00</td>\n",
              "      <td>0.00</td>\n",
              "      <td>0.00</td>\n",
              "      <td>0.00</td>\n",
              "      <td>normal</td>\n",
              "    </tr>\n",
              "    <tr>\n",
              "      <th>2</th>\n",
              "      <td>0</td>\n",
              "      <td>tcp</td>\n",
              "      <td>private</td>\n",
              "      <td>S0</td>\n",
              "      <td>0</td>\n",
              "      <td>0</td>\n",
              "      <td>0</td>\n",
              "      <td>0</td>\n",
              "      <td>0</td>\n",
              "      <td>0</td>\n",
              "      <td>...</td>\n",
              "      <td>26</td>\n",
              "      <td>0.10</td>\n",
              "      <td>0.05</td>\n",
              "      <td>0.00</td>\n",
              "      <td>0.00</td>\n",
              "      <td>1.00</td>\n",
              "      <td>1.00</td>\n",
              "      <td>0.00</td>\n",
              "      <td>0.00</td>\n",
              "      <td>anomaly</td>\n",
              "    </tr>\n",
              "    <tr>\n",
              "      <th>3</th>\n",
              "      <td>0</td>\n",
              "      <td>tcp</td>\n",
              "      <td>http</td>\n",
              "      <td>SF</td>\n",
              "      <td>232</td>\n",
              "      <td>8153</td>\n",
              "      <td>0</td>\n",
              "      <td>0</td>\n",
              "      <td>0</td>\n",
              "      <td>0</td>\n",
              "      <td>...</td>\n",
              "      <td>255</td>\n",
              "      <td>1.00</td>\n",
              "      <td>0.00</td>\n",
              "      <td>0.03</td>\n",
              "      <td>0.04</td>\n",
              "      <td>0.03</td>\n",
              "      <td>0.01</td>\n",
              "      <td>0.00</td>\n",
              "      <td>0.01</td>\n",
              "      <td>normal</td>\n",
              "    </tr>\n",
              "    <tr>\n",
              "      <th>4</th>\n",
              "      <td>0</td>\n",
              "      <td>tcp</td>\n",
              "      <td>http</td>\n",
              "      <td>SF</td>\n",
              "      <td>199</td>\n",
              "      <td>420</td>\n",
              "      <td>0</td>\n",
              "      <td>0</td>\n",
              "      <td>0</td>\n",
              "      <td>0</td>\n",
              "      <td>...</td>\n",
              "      <td>255</td>\n",
              "      <td>1.00</td>\n",
              "      <td>0.00</td>\n",
              "      <td>0.00</td>\n",
              "      <td>0.00</td>\n",
              "      <td>0.00</td>\n",
              "      <td>0.00</td>\n",
              "      <td>0.00</td>\n",
              "      <td>0.00</td>\n",
              "      <td>normal</td>\n",
              "    </tr>\n",
              "  </tbody>\n",
              "</table>\n",
              "<p>5 rows × 42 columns</p>\n",
              "</div>\n",
              "    <div class=\"colab-df-buttons\">\n",
              "\n",
              "  <div class=\"colab-df-container\">\n",
              "    <button class=\"colab-df-convert\" onclick=\"convertToInteractive('df-d2748dd0-3069-460a-bbeb-307685bd5cd5')\"\n",
              "            title=\"Convert this dataframe to an interactive table.\"\n",
              "            style=\"display:none;\">\n",
              "\n",
              "  <svg xmlns=\"http://www.w3.org/2000/svg\" height=\"24px\" viewBox=\"0 -960 960 960\">\n",
              "    <path d=\"M120-120v-720h720v720H120Zm60-500h600v-160H180v160Zm220 220h160v-160H400v160Zm0 220h160v-160H400v160ZM180-400h160v-160H180v160Zm440 0h160v-160H620v160ZM180-180h160v-160H180v160Zm440 0h160v-160H620v160Z\"/>\n",
              "  </svg>\n",
              "    </button>\n",
              "\n",
              "  <style>\n",
              "    .colab-df-container {\n",
              "      display:flex;\n",
              "      gap: 12px;\n",
              "    }\n",
              "\n",
              "    .colab-df-convert {\n",
              "      background-color: #E8F0FE;\n",
              "      border: none;\n",
              "      border-radius: 50%;\n",
              "      cursor: pointer;\n",
              "      display: none;\n",
              "      fill: #1967D2;\n",
              "      height: 32px;\n",
              "      padding: 0 0 0 0;\n",
              "      width: 32px;\n",
              "    }\n",
              "\n",
              "    .colab-df-convert:hover {\n",
              "      background-color: #E2EBFA;\n",
              "      box-shadow: 0px 1px 2px rgba(60, 64, 67, 0.3), 0px 1px 3px 1px rgba(60, 64, 67, 0.15);\n",
              "      fill: #174EA6;\n",
              "    }\n",
              "\n",
              "    .colab-df-buttons div {\n",
              "      margin-bottom: 4px;\n",
              "    }\n",
              "\n",
              "    [theme=dark] .colab-df-convert {\n",
              "      background-color: #3B4455;\n",
              "      fill: #D2E3FC;\n",
              "    }\n",
              "\n",
              "    [theme=dark] .colab-df-convert:hover {\n",
              "      background-color: #434B5C;\n",
              "      box-shadow: 0px 1px 3px 1px rgba(0, 0, 0, 0.15);\n",
              "      filter: drop-shadow(0px 1px 2px rgba(0, 0, 0, 0.3));\n",
              "      fill: #FFFFFF;\n",
              "    }\n",
              "  </style>\n",
              "\n",
              "    <script>\n",
              "      const buttonEl =\n",
              "        document.querySelector('#df-d2748dd0-3069-460a-bbeb-307685bd5cd5 button.colab-df-convert');\n",
              "      buttonEl.style.display =\n",
              "        google.colab.kernel.accessAllowed ? 'block' : 'none';\n",
              "\n",
              "      async function convertToInteractive(key) {\n",
              "        const element = document.querySelector('#df-d2748dd0-3069-460a-bbeb-307685bd5cd5');\n",
              "        const dataTable =\n",
              "          await google.colab.kernel.invokeFunction('convertToInteractive',\n",
              "                                                    [key], {});\n",
              "        if (!dataTable) return;\n",
              "\n",
              "        const docLinkHtml = 'Like what you see? Visit the ' +\n",
              "          '<a target=\"_blank\" href=https://colab.research.google.com/notebooks/data_table.ipynb>data table notebook</a>'\n",
              "          + ' to learn more about interactive tables.';\n",
              "        element.innerHTML = '';\n",
              "        dataTable['output_type'] = 'display_data';\n",
              "        await google.colab.output.renderOutput(dataTable, element);\n",
              "        const docLink = document.createElement('div');\n",
              "        docLink.innerHTML = docLinkHtml;\n",
              "        element.appendChild(docLink);\n",
              "      }\n",
              "    </script>\n",
              "  </div>\n",
              "\n",
              "\n",
              "<div id=\"df-d94c8583-4fc4-47c6-bb52-fd3c720addd5\">\n",
              "  <button class=\"colab-df-quickchart\" onclick=\"quickchart('df-d94c8583-4fc4-47c6-bb52-fd3c720addd5')\"\n",
              "            title=\"Suggest charts.\"\n",
              "            style=\"display:none;\">\n",
              "\n",
              "<svg xmlns=\"http://www.w3.org/2000/svg\" height=\"24px\"viewBox=\"0 0 24 24\"\n",
              "     width=\"24px\">\n",
              "    <g>\n",
              "        <path d=\"M19 3H5c-1.1 0-2 .9-2 2v14c0 1.1.9 2 2 2h14c1.1 0 2-.9 2-2V5c0-1.1-.9-2-2-2zM9 17H7v-7h2v7zm4 0h-2V7h2v10zm4 0h-2v-4h2v4z\"/>\n",
              "    </g>\n",
              "</svg>\n",
              "  </button>\n",
              "\n",
              "<style>\n",
              "  .colab-df-quickchart {\n",
              "    background-color: #E8F0FE;\n",
              "    border: none;\n",
              "    border-radius: 50%;\n",
              "    cursor: pointer;\n",
              "    display: none;\n",
              "    fill: #1967D2;\n",
              "    height: 32px;\n",
              "    padding: 0 0 0 0;\n",
              "    width: 32px;\n",
              "  }\n",
              "\n",
              "  .colab-df-quickchart:hover {\n",
              "    background-color: #E2EBFA;\n",
              "    box-shadow: 0px 1px 2px rgba(60, 64, 67, 0.3), 0px 1px 3px 1px rgba(60, 64, 67, 0.15);\n",
              "    fill: #174EA6;\n",
              "  }\n",
              "\n",
              "  [theme=dark] .colab-df-quickchart {\n",
              "    background-color: #3B4455;\n",
              "    fill: #D2E3FC;\n",
              "  }\n",
              "\n",
              "  [theme=dark] .colab-df-quickchart:hover {\n",
              "    background-color: #434B5C;\n",
              "    box-shadow: 0px 1px 3px 1px rgba(0, 0, 0, 0.15);\n",
              "    filter: drop-shadow(0px 1px 2px rgba(0, 0, 0, 0.3));\n",
              "    fill: #FFFFFF;\n",
              "  }\n",
              "</style>\n",
              "\n",
              "  <script>\n",
              "    async function quickchart(key) {\n",
              "      const charts = await google.colab.kernel.invokeFunction(\n",
              "          'suggestCharts', [key], {});\n",
              "    }\n",
              "    (() => {\n",
              "      let quickchartButtonEl =\n",
              "        document.querySelector('#df-d94c8583-4fc4-47c6-bb52-fd3c720addd5 button');\n",
              "      quickchartButtonEl.style.display =\n",
              "        google.colab.kernel.accessAllowed ? 'block' : 'none';\n",
              "    })();\n",
              "  </script>\n",
              "</div>\n",
              "    </div>\n",
              "  </div>\n"
            ],
            "text/plain": [
              "   duration protocol_type   service flag  src_bytes  dst_bytes  land  \\\n",
              "0         0           tcp  ftp_data   SF        491          0     0   \n",
              "1         0           udp     other   SF        146          0     0   \n",
              "2         0           tcp   private   S0          0          0     0   \n",
              "3         0           tcp      http   SF        232       8153     0   \n",
              "4         0           tcp      http   SF        199        420     0   \n",
              "\n",
              "   wrong_fragment  urgent  hot  ...  dst_host_srv_count  \\\n",
              "0               0       0    0  ...                  25   \n",
              "1               0       0    0  ...                   1   \n",
              "2               0       0    0  ...                  26   \n",
              "3               0       0    0  ...                 255   \n",
              "4               0       0    0  ...                 255   \n",
              "\n",
              "   dst_host_same_srv_rate  dst_host_diff_srv_rate  \\\n",
              "0                    0.17                    0.03   \n",
              "1                    0.00                    0.60   \n",
              "2                    0.10                    0.05   \n",
              "3                    1.00                    0.00   \n",
              "4                    1.00                    0.00   \n",
              "\n",
              "   dst_host_same_src_port_rate  dst_host_srv_diff_host_rate  \\\n",
              "0                         0.17                         0.00   \n",
              "1                         0.88                         0.00   \n",
              "2                         0.00                         0.00   \n",
              "3                         0.03                         0.04   \n",
              "4                         0.00                         0.00   \n",
              "\n",
              "   dst_host_serror_rate  dst_host_srv_serror_rate  dst_host_rerror_rate  \\\n",
              "0                  0.00                      0.00                  0.05   \n",
              "1                  0.00                      0.00                  0.00   \n",
              "2                  1.00                      1.00                  0.00   \n",
              "3                  0.03                      0.01                  0.00   \n",
              "4                  0.00                      0.00                  0.00   \n",
              "\n",
              "   dst_host_srv_rerror_rate    class  \n",
              "0                      0.00   normal  \n",
              "1                      0.00   normal  \n",
              "2                      0.00  anomaly  \n",
              "3                      0.01   normal  \n",
              "4                      0.00   normal  \n",
              "\n",
              "[5 rows x 42 columns]"
            ]
          },
          "execution_count": 3,
          "metadata": {},
          "output_type": "execute_result"
        }
      ],
      "source": [
        "train.head()"
      ]
    },
    {
      "cell_type": "code",
      "execution_count": 4,
      "metadata": {
        "colab": {
          "base_uri": "https://localhost:8080/",
          "height": 349
        },
        "id": "NnYH91RNy6tH",
        "outputId": "c312d27b-1a47-4c2a-a45e-6a4628958965"
      },
      "outputs": [
        {
          "data": {
            "text/html": [
              "\n",
              "  <div id=\"df-2a63961e-1f59-46f9-8d38-6e75c88757e6\" class=\"colab-df-container\">\n",
              "    <div>\n",
              "<style scoped>\n",
              "    .dataframe tbody tr th:only-of-type {\n",
              "        vertical-align: middle;\n",
              "    }\n",
              "\n",
              "    .dataframe tbody tr th {\n",
              "        vertical-align: top;\n",
              "    }\n",
              "\n",
              "    .dataframe thead th {\n",
              "        text-align: right;\n",
              "    }\n",
              "</style>\n",
              "<table border=\"1\" class=\"dataframe\">\n",
              "  <thead>\n",
              "    <tr style=\"text-align: right;\">\n",
              "      <th></th>\n",
              "      <th>duration</th>\n",
              "      <th>src_bytes</th>\n",
              "      <th>dst_bytes</th>\n",
              "      <th>land</th>\n",
              "      <th>wrong_fragment</th>\n",
              "      <th>urgent</th>\n",
              "      <th>hot</th>\n",
              "      <th>num_failed_logins</th>\n",
              "      <th>logged_in</th>\n",
              "      <th>num_compromised</th>\n",
              "      <th>...</th>\n",
              "      <th>dst_host_count</th>\n",
              "      <th>dst_host_srv_count</th>\n",
              "      <th>dst_host_same_srv_rate</th>\n",
              "      <th>dst_host_diff_srv_rate</th>\n",
              "      <th>dst_host_same_src_port_rate</th>\n",
              "      <th>dst_host_srv_diff_host_rate</th>\n",
              "      <th>dst_host_serror_rate</th>\n",
              "      <th>dst_host_srv_serror_rate</th>\n",
              "      <th>dst_host_rerror_rate</th>\n",
              "      <th>dst_host_srv_rerror_rate</th>\n",
              "    </tr>\n",
              "  </thead>\n",
              "  <tbody>\n",
              "    <tr>\n",
              "      <th>count</th>\n",
              "      <td>25192.000000</td>\n",
              "      <td>2.519200e+04</td>\n",
              "      <td>2.519200e+04</td>\n",
              "      <td>25192.000000</td>\n",
              "      <td>25192.000000</td>\n",
              "      <td>25192.00000</td>\n",
              "      <td>25192.000000</td>\n",
              "      <td>25192.000000</td>\n",
              "      <td>25192.000000</td>\n",
              "      <td>25192.000000</td>\n",
              "      <td>...</td>\n",
              "      <td>25192.000000</td>\n",
              "      <td>25192.000000</td>\n",
              "      <td>25192.000000</td>\n",
              "      <td>25192.000000</td>\n",
              "      <td>25192.000000</td>\n",
              "      <td>25192.000000</td>\n",
              "      <td>25192.000000</td>\n",
              "      <td>25192.000000</td>\n",
              "      <td>25192.000000</td>\n",
              "      <td>25192.000000</td>\n",
              "    </tr>\n",
              "    <tr>\n",
              "      <th>mean</th>\n",
              "      <td>305.054104</td>\n",
              "      <td>2.433063e+04</td>\n",
              "      <td>3.491847e+03</td>\n",
              "      <td>0.000079</td>\n",
              "      <td>0.023738</td>\n",
              "      <td>0.00004</td>\n",
              "      <td>0.198039</td>\n",
              "      <td>0.001191</td>\n",
              "      <td>0.394768</td>\n",
              "      <td>0.227850</td>\n",
              "      <td>...</td>\n",
              "      <td>182.532074</td>\n",
              "      <td>115.063036</td>\n",
              "      <td>0.519791</td>\n",
              "      <td>0.082539</td>\n",
              "      <td>0.147453</td>\n",
              "      <td>0.031844</td>\n",
              "      <td>0.285800</td>\n",
              "      <td>0.279846</td>\n",
              "      <td>0.117800</td>\n",
              "      <td>0.118769</td>\n",
              "    </tr>\n",
              "    <tr>\n",
              "      <th>std</th>\n",
              "      <td>2686.555640</td>\n",
              "      <td>2.410805e+06</td>\n",
              "      <td>8.883072e+04</td>\n",
              "      <td>0.008910</td>\n",
              "      <td>0.260221</td>\n",
              "      <td>0.00630</td>\n",
              "      <td>2.154202</td>\n",
              "      <td>0.045418</td>\n",
              "      <td>0.488811</td>\n",
              "      <td>10.417352</td>\n",
              "      <td>...</td>\n",
              "      <td>98.993895</td>\n",
              "      <td>110.646850</td>\n",
              "      <td>0.448944</td>\n",
              "      <td>0.187191</td>\n",
              "      <td>0.308367</td>\n",
              "      <td>0.110575</td>\n",
              "      <td>0.445316</td>\n",
              "      <td>0.446075</td>\n",
              "      <td>0.305869</td>\n",
              "      <td>0.317333</td>\n",
              "    </tr>\n",
              "    <tr>\n",
              "      <th>min</th>\n",
              "      <td>0.000000</td>\n",
              "      <td>0.000000e+00</td>\n",
              "      <td>0.000000e+00</td>\n",
              "      <td>0.000000</td>\n",
              "      <td>0.000000</td>\n",
              "      <td>0.00000</td>\n",
              "      <td>0.000000</td>\n",
              "      <td>0.000000</td>\n",
              "      <td>0.000000</td>\n",
              "      <td>0.000000</td>\n",
              "      <td>...</td>\n",
              "      <td>0.000000</td>\n",
              "      <td>0.000000</td>\n",
              "      <td>0.000000</td>\n",
              "      <td>0.000000</td>\n",
              "      <td>0.000000</td>\n",
              "      <td>0.000000</td>\n",
              "      <td>0.000000</td>\n",
              "      <td>0.000000</td>\n",
              "      <td>0.000000</td>\n",
              "      <td>0.000000</td>\n",
              "    </tr>\n",
              "    <tr>\n",
              "      <th>25%</th>\n",
              "      <td>0.000000</td>\n",
              "      <td>0.000000e+00</td>\n",
              "      <td>0.000000e+00</td>\n",
              "      <td>0.000000</td>\n",
              "      <td>0.000000</td>\n",
              "      <td>0.00000</td>\n",
              "      <td>0.000000</td>\n",
              "      <td>0.000000</td>\n",
              "      <td>0.000000</td>\n",
              "      <td>0.000000</td>\n",
              "      <td>...</td>\n",
              "      <td>84.000000</td>\n",
              "      <td>10.000000</td>\n",
              "      <td>0.050000</td>\n",
              "      <td>0.000000</td>\n",
              "      <td>0.000000</td>\n",
              "      <td>0.000000</td>\n",
              "      <td>0.000000</td>\n",
              "      <td>0.000000</td>\n",
              "      <td>0.000000</td>\n",
              "      <td>0.000000</td>\n",
              "    </tr>\n",
              "    <tr>\n",
              "      <th>50%</th>\n",
              "      <td>0.000000</td>\n",
              "      <td>4.400000e+01</td>\n",
              "      <td>0.000000e+00</td>\n",
              "      <td>0.000000</td>\n",
              "      <td>0.000000</td>\n",
              "      <td>0.00000</td>\n",
              "      <td>0.000000</td>\n",
              "      <td>0.000000</td>\n",
              "      <td>0.000000</td>\n",
              "      <td>0.000000</td>\n",
              "      <td>...</td>\n",
              "      <td>255.000000</td>\n",
              "      <td>61.000000</td>\n",
              "      <td>0.510000</td>\n",
              "      <td>0.030000</td>\n",
              "      <td>0.000000</td>\n",
              "      <td>0.000000</td>\n",
              "      <td>0.000000</td>\n",
              "      <td>0.000000</td>\n",
              "      <td>0.000000</td>\n",
              "      <td>0.000000</td>\n",
              "    </tr>\n",
              "    <tr>\n",
              "      <th>75%</th>\n",
              "      <td>0.000000</td>\n",
              "      <td>2.790000e+02</td>\n",
              "      <td>5.302500e+02</td>\n",
              "      <td>0.000000</td>\n",
              "      <td>0.000000</td>\n",
              "      <td>0.00000</td>\n",
              "      <td>0.000000</td>\n",
              "      <td>0.000000</td>\n",
              "      <td>1.000000</td>\n",
              "      <td>0.000000</td>\n",
              "      <td>...</td>\n",
              "      <td>255.000000</td>\n",
              "      <td>255.000000</td>\n",
              "      <td>1.000000</td>\n",
              "      <td>0.070000</td>\n",
              "      <td>0.060000</td>\n",
              "      <td>0.020000</td>\n",
              "      <td>1.000000</td>\n",
              "      <td>1.000000</td>\n",
              "      <td>0.000000</td>\n",
              "      <td>0.000000</td>\n",
              "    </tr>\n",
              "    <tr>\n",
              "      <th>max</th>\n",
              "      <td>42862.000000</td>\n",
              "      <td>3.817091e+08</td>\n",
              "      <td>5.151385e+06</td>\n",
              "      <td>1.000000</td>\n",
              "      <td>3.000000</td>\n",
              "      <td>1.00000</td>\n",
              "      <td>77.000000</td>\n",
              "      <td>4.000000</td>\n",
              "      <td>1.000000</td>\n",
              "      <td>884.000000</td>\n",
              "      <td>...</td>\n",
              "      <td>255.000000</td>\n",
              "      <td>255.000000</td>\n",
              "      <td>1.000000</td>\n",
              "      <td>1.000000</td>\n",
              "      <td>1.000000</td>\n",
              "      <td>1.000000</td>\n",
              "      <td>1.000000</td>\n",
              "      <td>1.000000</td>\n",
              "      <td>1.000000</td>\n",
              "      <td>1.000000</td>\n",
              "    </tr>\n",
              "  </tbody>\n",
              "</table>\n",
              "<p>8 rows × 38 columns</p>\n",
              "</div>\n",
              "    <div class=\"colab-df-buttons\">\n",
              "\n",
              "  <div class=\"colab-df-container\">\n",
              "    <button class=\"colab-df-convert\" onclick=\"convertToInteractive('df-2a63961e-1f59-46f9-8d38-6e75c88757e6')\"\n",
              "            title=\"Convert this dataframe to an interactive table.\"\n",
              "            style=\"display:none;\">\n",
              "\n",
              "  <svg xmlns=\"http://www.w3.org/2000/svg\" height=\"24px\" viewBox=\"0 -960 960 960\">\n",
              "    <path d=\"M120-120v-720h720v720H120Zm60-500h600v-160H180v160Zm220 220h160v-160H400v160Zm0 220h160v-160H400v160ZM180-400h160v-160H180v160Zm440 0h160v-160H620v160ZM180-180h160v-160H180v160Zm440 0h160v-160H620v160Z\"/>\n",
              "  </svg>\n",
              "    </button>\n",
              "\n",
              "  <style>\n",
              "    .colab-df-container {\n",
              "      display:flex;\n",
              "      gap: 12px;\n",
              "    }\n",
              "\n",
              "    .colab-df-convert {\n",
              "      background-color: #E8F0FE;\n",
              "      border: none;\n",
              "      border-radius: 50%;\n",
              "      cursor: pointer;\n",
              "      display: none;\n",
              "      fill: #1967D2;\n",
              "      height: 32px;\n",
              "      padding: 0 0 0 0;\n",
              "      width: 32px;\n",
              "    }\n",
              "\n",
              "    .colab-df-convert:hover {\n",
              "      background-color: #E2EBFA;\n",
              "      box-shadow: 0px 1px 2px rgba(60, 64, 67, 0.3), 0px 1px 3px 1px rgba(60, 64, 67, 0.15);\n",
              "      fill: #174EA6;\n",
              "    }\n",
              "\n",
              "    .colab-df-buttons div {\n",
              "      margin-bottom: 4px;\n",
              "    }\n",
              "\n",
              "    [theme=dark] .colab-df-convert {\n",
              "      background-color: #3B4455;\n",
              "      fill: #D2E3FC;\n",
              "    }\n",
              "\n",
              "    [theme=dark] .colab-df-convert:hover {\n",
              "      background-color: #434B5C;\n",
              "      box-shadow: 0px 1px 3px 1px rgba(0, 0, 0, 0.15);\n",
              "      filter: drop-shadow(0px 1px 2px rgba(0, 0, 0, 0.3));\n",
              "      fill: #FFFFFF;\n",
              "    }\n",
              "  </style>\n",
              "\n",
              "    <script>\n",
              "      const buttonEl =\n",
              "        document.querySelector('#df-2a63961e-1f59-46f9-8d38-6e75c88757e6 button.colab-df-convert');\n",
              "      buttonEl.style.display =\n",
              "        google.colab.kernel.accessAllowed ? 'block' : 'none';\n",
              "\n",
              "      async function convertToInteractive(key) {\n",
              "        const element = document.querySelector('#df-2a63961e-1f59-46f9-8d38-6e75c88757e6');\n",
              "        const dataTable =\n",
              "          await google.colab.kernel.invokeFunction('convertToInteractive',\n",
              "                                                    [key], {});\n",
              "        if (!dataTable) return;\n",
              "\n",
              "        const docLinkHtml = 'Like what you see? Visit the ' +\n",
              "          '<a target=\"_blank\" href=https://colab.research.google.com/notebooks/data_table.ipynb>data table notebook</a>'\n",
              "          + ' to learn more about interactive tables.';\n",
              "        element.innerHTML = '';\n",
              "        dataTable['output_type'] = 'display_data';\n",
              "        await google.colab.output.renderOutput(dataTable, element);\n",
              "        const docLink = document.createElement('div');\n",
              "        docLink.innerHTML = docLinkHtml;\n",
              "        element.appendChild(docLink);\n",
              "      }\n",
              "    </script>\n",
              "  </div>\n",
              "\n",
              "\n",
              "<div id=\"df-599ecdc9-a868-45f6-8efe-03c31ca31c29\">\n",
              "  <button class=\"colab-df-quickchart\" onclick=\"quickchart('df-599ecdc9-a868-45f6-8efe-03c31ca31c29')\"\n",
              "            title=\"Suggest charts.\"\n",
              "            style=\"display:none;\">\n",
              "\n",
              "<svg xmlns=\"http://www.w3.org/2000/svg\" height=\"24px\"viewBox=\"0 0 24 24\"\n",
              "     width=\"24px\">\n",
              "    <g>\n",
              "        <path d=\"M19 3H5c-1.1 0-2 .9-2 2v14c0 1.1.9 2 2 2h14c1.1 0 2-.9 2-2V5c0-1.1-.9-2-2-2zM9 17H7v-7h2v7zm4 0h-2V7h2v10zm4 0h-2v-4h2v4z\"/>\n",
              "    </g>\n",
              "</svg>\n",
              "  </button>\n",
              "\n",
              "<style>\n",
              "  .colab-df-quickchart {\n",
              "    background-color: #E8F0FE;\n",
              "    border: none;\n",
              "    border-radius: 50%;\n",
              "    cursor: pointer;\n",
              "    display: none;\n",
              "    fill: #1967D2;\n",
              "    height: 32px;\n",
              "    padding: 0 0 0 0;\n",
              "    width: 32px;\n",
              "  }\n",
              "\n",
              "  .colab-df-quickchart:hover {\n",
              "    background-color: #E2EBFA;\n",
              "    box-shadow: 0px 1px 2px rgba(60, 64, 67, 0.3), 0px 1px 3px 1px rgba(60, 64, 67, 0.15);\n",
              "    fill: #174EA6;\n",
              "  }\n",
              "\n",
              "  [theme=dark] .colab-df-quickchart {\n",
              "    background-color: #3B4455;\n",
              "    fill: #D2E3FC;\n",
              "  }\n",
              "\n",
              "  [theme=dark] .colab-df-quickchart:hover {\n",
              "    background-color: #434B5C;\n",
              "    box-shadow: 0px 1px 3px 1px rgba(0, 0, 0, 0.15);\n",
              "    filter: drop-shadow(0px 1px 2px rgba(0, 0, 0, 0.3));\n",
              "    fill: #FFFFFF;\n",
              "  }\n",
              "</style>\n",
              "\n",
              "  <script>\n",
              "    async function quickchart(key) {\n",
              "      const charts = await google.colab.kernel.invokeFunction(\n",
              "          'suggestCharts', [key], {});\n",
              "    }\n",
              "    (() => {\n",
              "      let quickchartButtonEl =\n",
              "        document.querySelector('#df-599ecdc9-a868-45f6-8efe-03c31ca31c29 button');\n",
              "      quickchartButtonEl.style.display =\n",
              "        google.colab.kernel.accessAllowed ? 'block' : 'none';\n",
              "    })();\n",
              "  </script>\n",
              "</div>\n",
              "    </div>\n",
              "  </div>\n"
            ],
            "text/plain": [
              "           duration     src_bytes     dst_bytes          land  wrong_fragment  \\\n",
              "count  25192.000000  2.519200e+04  2.519200e+04  25192.000000    25192.000000   \n",
              "mean     305.054104  2.433063e+04  3.491847e+03      0.000079        0.023738   \n",
              "std     2686.555640  2.410805e+06  8.883072e+04      0.008910        0.260221   \n",
              "min        0.000000  0.000000e+00  0.000000e+00      0.000000        0.000000   \n",
              "25%        0.000000  0.000000e+00  0.000000e+00      0.000000        0.000000   \n",
              "50%        0.000000  4.400000e+01  0.000000e+00      0.000000        0.000000   \n",
              "75%        0.000000  2.790000e+02  5.302500e+02      0.000000        0.000000   \n",
              "max    42862.000000  3.817091e+08  5.151385e+06      1.000000        3.000000   \n",
              "\n",
              "            urgent           hot  num_failed_logins     logged_in  \\\n",
              "count  25192.00000  25192.000000       25192.000000  25192.000000   \n",
              "mean       0.00004      0.198039           0.001191      0.394768   \n",
              "std        0.00630      2.154202           0.045418      0.488811   \n",
              "min        0.00000      0.000000           0.000000      0.000000   \n",
              "25%        0.00000      0.000000           0.000000      0.000000   \n",
              "50%        0.00000      0.000000           0.000000      0.000000   \n",
              "75%        0.00000      0.000000           0.000000      1.000000   \n",
              "max        1.00000     77.000000           4.000000      1.000000   \n",
              "\n",
              "       num_compromised  ...  dst_host_count  dst_host_srv_count  \\\n",
              "count     25192.000000  ...    25192.000000        25192.000000   \n",
              "mean          0.227850  ...      182.532074          115.063036   \n",
              "std          10.417352  ...       98.993895          110.646850   \n",
              "min           0.000000  ...        0.000000            0.000000   \n",
              "25%           0.000000  ...       84.000000           10.000000   \n",
              "50%           0.000000  ...      255.000000           61.000000   \n",
              "75%           0.000000  ...      255.000000          255.000000   \n",
              "max         884.000000  ...      255.000000          255.000000   \n",
              "\n",
              "       dst_host_same_srv_rate  dst_host_diff_srv_rate  \\\n",
              "count            25192.000000            25192.000000   \n",
              "mean                 0.519791                0.082539   \n",
              "std                  0.448944                0.187191   \n",
              "min                  0.000000                0.000000   \n",
              "25%                  0.050000                0.000000   \n",
              "50%                  0.510000                0.030000   \n",
              "75%                  1.000000                0.070000   \n",
              "max                  1.000000                1.000000   \n",
              "\n",
              "       dst_host_same_src_port_rate  dst_host_srv_diff_host_rate  \\\n",
              "count                 25192.000000                 25192.000000   \n",
              "mean                      0.147453                     0.031844   \n",
              "std                       0.308367                     0.110575   \n",
              "min                       0.000000                     0.000000   \n",
              "25%                       0.000000                     0.000000   \n",
              "50%                       0.000000                     0.000000   \n",
              "75%                       0.060000                     0.020000   \n",
              "max                       1.000000                     1.000000   \n",
              "\n",
              "       dst_host_serror_rate  dst_host_srv_serror_rate  dst_host_rerror_rate  \\\n",
              "count          25192.000000              25192.000000          25192.000000   \n",
              "mean               0.285800                  0.279846              0.117800   \n",
              "std                0.445316                  0.446075              0.305869   \n",
              "min                0.000000                  0.000000              0.000000   \n",
              "25%                0.000000                  0.000000              0.000000   \n",
              "50%                0.000000                  0.000000              0.000000   \n",
              "75%                1.000000                  1.000000              0.000000   \n",
              "max                1.000000                  1.000000              1.000000   \n",
              "\n",
              "       dst_host_srv_rerror_rate  \n",
              "count              25192.000000  \n",
              "mean                   0.118769  \n",
              "std                    0.317333  \n",
              "min                    0.000000  \n",
              "25%                    0.000000  \n",
              "50%                    0.000000  \n",
              "75%                    0.000000  \n",
              "max                    1.000000  \n",
              "\n",
              "[8 rows x 38 columns]"
            ]
          },
          "execution_count": 4,
          "metadata": {},
          "output_type": "execute_result"
        }
      ],
      "source": [
        "train.describe()"
      ]
    },
    {
      "cell_type": "code",
      "execution_count": 5,
      "metadata": {
        "colab": {
          "base_uri": "https://localhost:8080/"
        },
        "id": "TcJotc05y8er",
        "outputId": "53ef88d4-8a30-4bb8-c230-889e95871d91"
      },
      "outputs": [
        {
          "data": {
            "text/plain": [
              "duration                       0\n",
              "protocol_type                  0\n",
              "service                        0\n",
              "flag                           0\n",
              "src_bytes                      0\n",
              "dst_bytes                      0\n",
              "land                           0\n",
              "wrong_fragment                 0\n",
              "urgent                         0\n",
              "hot                            0\n",
              "num_failed_logins              0\n",
              "logged_in                      0\n",
              "num_compromised                0\n",
              "root_shell                     0\n",
              "su_attempted                   0\n",
              "num_root                       0\n",
              "num_file_creations             0\n",
              "num_shells                     0\n",
              "num_access_files               0\n",
              "num_outbound_cmds              0\n",
              "is_host_login                  0\n",
              "is_guest_login                 0\n",
              "count                          0\n",
              "srv_count                      0\n",
              "serror_rate                    0\n",
              "srv_serror_rate                0\n",
              "rerror_rate                    0\n",
              "srv_rerror_rate                0\n",
              "same_srv_rate                  0\n",
              "diff_srv_rate                  0\n",
              "srv_diff_host_rate             0\n",
              "dst_host_count                 0\n",
              "dst_host_srv_count             0\n",
              "dst_host_same_srv_rate         0\n",
              "dst_host_diff_srv_rate         0\n",
              "dst_host_same_src_port_rate    0\n",
              "dst_host_srv_diff_host_rate    0\n",
              "dst_host_serror_rate           0\n",
              "dst_host_srv_serror_rate       0\n",
              "dst_host_rerror_rate           0\n",
              "dst_host_srv_rerror_rate       0\n",
              "class                          0\n",
              "dtype: int64"
            ]
          },
          "execution_count": 5,
          "metadata": {},
          "output_type": "execute_result"
        }
      ],
      "source": [
        "train.isnull().sum()"
      ]
    },
    {
      "cell_type": "markdown",
      "metadata": {
        "id": "imp1c2US0QIj"
      },
      "source": [
        "We find no column to be blank"
      ]
    },
    {
      "cell_type": "code",
      "execution_count": 6,
      "metadata": {
        "colab": {
          "base_uri": "https://localhost:8080/"
        },
        "id": "nuosptnLzCIi",
        "outputId": "c2b2753c-75fc-40cb-ced6-d371a3a60426"
      },
      "outputs": [
        {
          "data": {
            "text/plain": [
              "Index(['duration', 'protocol_type', 'service', 'flag', 'src_bytes',\n",
              "       'dst_bytes', 'land', 'wrong_fragment', 'urgent', 'hot',\n",
              "       'num_failed_logins', 'logged_in', 'num_compromised', 'root_shell',\n",
              "       'su_attempted', 'num_root', 'num_file_creations', 'num_shells',\n",
              "       'num_access_files', 'num_outbound_cmds', 'is_host_login',\n",
              "       'is_guest_login', 'count', 'srv_count', 'serror_rate',\n",
              "       'srv_serror_rate', 'rerror_rate', 'srv_rerror_rate', 'same_srv_rate',\n",
              "       'diff_srv_rate', 'srv_diff_host_rate', 'dst_host_count',\n",
              "       'dst_host_srv_count', 'dst_host_same_srv_rate',\n",
              "       'dst_host_diff_srv_rate', 'dst_host_same_src_port_rate',\n",
              "       'dst_host_srv_diff_host_rate', 'dst_host_serror_rate',\n",
              "       'dst_host_srv_serror_rate', 'dst_host_rerror_rate',\n",
              "       'dst_host_srv_rerror_rate', 'class'],\n",
              "      dtype='object')"
            ]
          },
          "execution_count": 6,
          "metadata": {},
          "output_type": "execute_result"
        }
      ],
      "source": [
        "train.columns"
      ]
    },
    {
      "cell_type": "code",
      "execution_count": 7,
      "metadata": {
        "colab": {
          "base_uri": "https://localhost:8080/"
        },
        "id": "pfKH92J7zETn",
        "outputId": "6e3e6939-6d39-483d-d184-9b3bf9d2d0f9"
      },
      "outputs": [
        {
          "data": {
            "text/plain": [
              "0"
            ]
          },
          "execution_count": 7,
          "metadata": {},
          "output_type": "execute_result"
        }
      ],
      "source": [
        "train.duplicated().sum()"
      ]
    },
    {
      "cell_type": "code",
      "execution_count": 8,
      "metadata": {
        "colab": {
          "base_uri": "https://localhost:8080/"
        },
        "id": "_7HLXKWD4Oku",
        "outputId": "425424dc-72bf-40e8-e585-30634aa95fef"
      },
      "outputs": [
        {
          "data": {
            "text/plain": [
              "0"
            ]
          },
          "execution_count": 8,
          "metadata": {},
          "output_type": "execute_result"
        }
      ],
      "source": [
        "train.duplicated().sum()"
      ]
    },
    {
      "cell_type": "markdown",
      "metadata": {
        "id": "kej9hY2o0Wyc"
      },
      "source": [
        "Checking the balance of data."
      ]
    },
    {
      "cell_type": "code",
      "execution_count": 9,
      "metadata": {
        "colab": {
          "base_uri": "https://localhost:8080/"
        },
        "id": "mgjF4_yHzVAA",
        "outputId": "9bd40c57-86fb-42f6-d081-56f24e3a5f1f"
      },
      "outputs": [
        {
          "data": {
            "text/plain": [
              "normal     13449\n",
              "anomaly    11743\n",
              "Name: class, dtype: int64"
            ]
          },
          "execution_count": 9,
          "metadata": {},
          "output_type": "execute_result"
        }
      ],
      "source": [
        "train['class'].value_counts()"
      ]
    },
    {
      "cell_type": "code",
      "execution_count": 10,
      "metadata": {
        "colab": {
          "base_uri": "https://localhost:8080/",
          "height": 469
        },
        "id": "UAinNV67apVF",
        "outputId": "4428d84d-0c76-46f9-e44d-239a2e9d1307"
      },
      "outputs": [
        {
          "data": {
            "text/plain": [
              "<Axes: xlabel='class', ylabel='count'>"
            ]
          },
          "execution_count": 10,
          "metadata": {},
          "output_type": "execute_result"
        },
        {
          "data": {
            "image/png": "[encoded data removed]",
            "text/plain": [
              "<Figure size 640x480 with 1 Axes>"
            ]
          },
          "metadata": {},
          "output_type": "display_data"
        }
      ],
      "source": [
        "sns.countplot(x=train['class'])"
      ]
    },
    {
      "cell_type": "code",
      "execution_count": 11,
      "metadata": {
        "colab": {
          "base_uri": "https://localhost:8080/",
          "height": 227
        },
        "id": "xTfBp8Q4zhVW",
        "outputId": "96c37215-123a-4462-d62a-c2c4787d52d9"
      },
      "outputs": [
        {
          "name": "stderr",
          "output_type": "stream",
          "text": [
            "<ipython-input-11-9288ed686717>:1: FutureWarning: The default value of numeric_only in DataFrameGroupBy.mean is deprecated. In a future version, numeric_only will default to False. Either specify numeric_only or select only columns which should be valid for the function.\n",
            "  train.groupby('class').mean()\n"
          ]
        },
        {
          "data": {
            "text/html": [
              "\n",
              "  <div id=\"df-e1938e38-2217-4b6c-bdb0-093c41247e88\" class=\"colab-df-container\">\n",
              "    <div>\n",
              "<style scoped>\n",
              "    .dataframe tbody tr th:only-of-type {\n",
              "        vertical-align: middle;\n",
              "    }\n",
              "\n",
              "    .dataframe tbody tr th {\n",
              "        vertical-align: top;\n",
              "    }\n",
              "\n",
              "    .dataframe thead th {\n",
              "        text-align: right;\n",
              "    }\n",
              "</style>\n",
              "<table border=\"1\" class=\"dataframe\">\n",
              "  <thead>\n",
              "    <tr style=\"text-align: right;\">\n",
              "      <th></th>\n",
              "      <th>duration</th>\n",
              "      <th>src_bytes</th>\n",
              "      <th>dst_bytes</th>\n",
              "      <th>land</th>\n",
              "      <th>wrong_fragment</th>\n",
              "      <th>urgent</th>\n",
              "      <th>hot</th>\n",
              "      <th>num_failed_logins</th>\n",
              "      <th>logged_in</th>\n",
              "      <th>num_compromised</th>\n",
              "      <th>...</th>\n",
              "      <th>dst_host_count</th>\n",
              "      <th>dst_host_srv_count</th>\n",
              "      <th>dst_host_same_srv_rate</th>\n",
              "      <th>dst_host_diff_srv_rate</th>\n",
              "      <th>dst_host_same_src_port_rate</th>\n",
              "      <th>dst_host_srv_diff_host_rate</th>\n",
              "      <th>dst_host_serror_rate</th>\n",
              "      <th>dst_host_srv_serror_rate</th>\n",
              "      <th>dst_host_rerror_rate</th>\n",
              "      <th>dst_host_srv_rerror_rate</th>\n",
              "    </tr>\n",
              "    <tr>\n",
              "      <th>class</th>\n",
              "      <th></th>\n",
              "      <th></th>\n",
              "      <th></th>\n",
              "      <th></th>\n",
              "      <th></th>\n",
              "      <th></th>\n",
              "      <th></th>\n",
              "      <th></th>\n",
              "      <th></th>\n",
              "      <th></th>\n",
              "      <th></th>\n",
              "      <th></th>\n",
              "      <th></th>\n",
              "      <th></th>\n",
              "      <th></th>\n",
              "      <th></th>\n",
              "      <th></th>\n",
              "      <th></th>\n",
              "      <th></th>\n",
              "      <th></th>\n",
              "      <th></th>\n",
              "    </tr>\n",
              "  </thead>\n",
              "  <tbody>\n",
              "    <tr>\n",
              "      <th>anomaly</th>\n",
              "      <td>451.397002</td>\n",
              "      <td>39146.190667</td>\n",
              "      <td>2450.980158</td>\n",
              "      <td>0.000085</td>\n",
              "      <td>0.050924</td>\n",
              "      <td>0.000085</td>\n",
              "      <td>0.168441</td>\n",
              "      <td>0.001192</td>\n",
              "      <td>0.034829</td>\n",
              "      <td>0.020267</td>\n",
              "      <td>...</td>\n",
              "      <td>221.605297</td>\n",
              "      <td>29.892191</td>\n",
              "      <td>0.187225</td>\n",
              "      <td>0.13025</td>\n",
              "      <td>0.178134</td>\n",
              "      <td>0.039291</td>\n",
              "      <td>0.596063</td>\n",
              "      <td>0.591931</td>\n",
              "      <td>0.201698</td>\n",
              "      <td>0.206045</td>\n",
              "    </tr>\n",
              "    <tr>\n",
              "      <th>normal</th>\n",
              "      <td>177.274742</td>\n",
              "      <td>11394.413637</td>\n",
              "      <td>4400.680645</td>\n",
              "      <td>0.000074</td>\n",
              "      <td>0.000000</td>\n",
              "      <td>0.000000</td>\n",
              "      <td>0.223883</td>\n",
              "      <td>0.001190</td>\n",
              "      <td>0.709049</td>\n",
              "      <td>0.409101</td>\n",
              "      <td>...</td>\n",
              "      <td>148.415273</td>\n",
              "      <td>189.429995</td>\n",
              "      <td>0.810171</td>\n",
              "      <td>0.04088</td>\n",
              "      <td>0.120663</td>\n",
              "      <td>0.025342</td>\n",
              "      <td>0.014894</td>\n",
              "      <td>0.007349</td>\n",
              "      <td>0.044545</td>\n",
              "      <td>0.042565</td>\n",
              "    </tr>\n",
              "  </tbody>\n",
              "</table>\n",
              "<p>2 rows × 38 columns</p>\n",
              "</div>\n",
              "    <div class=\"colab-df-buttons\">\n",
              "\n",
              "  <div class=\"colab-df-container\">\n",
              "    <button class=\"colab-df-convert\" onclick=\"convertToInteractive('df-e1938e38-2217-4b6c-bdb0-093c41247e88')\"\n",
              "            title=\"Convert this dataframe to an interactive table.\"\n",
              "            style=\"display:none;\">\n",
              "\n",
              "  <svg xmlns=\"http://www.w3.org/2000/svg\" height=\"24px\" viewBox=\"0 -960 960 960\">\n",
              "    <path d=\"M120-120v-720h720v720H120Zm60-500h600v-160H180v160Zm220 220h160v-160H400v160Zm0 220h160v-160H400v160ZM180-400h160v-160H180v160Zm440 0h160v-160H620v160ZM180-180h160v-160H180v160Zm440 0h160v-160H620v160Z\"/>\n",
              "  </svg>\n",
              "    </button>\n",
              "\n",
              "  <style>\n",
              "    .colab-df-container {\n",
              "      display:flex;\n",
              "      gap: 12px;\n",
              "    }\n",
              "\n",
              "    .colab-df-convert {\n",
              "      background-color: #E8F0FE;\n",
              "      border: none;\n",
              "      border-radius: 50%;\n",
              "      cursor: pointer;\n",
              "      display: none;\n",
              "      fill: #1967D2;\n",
              "      height: 32px;\n",
              "      padding: 0 0 0 0;\n",
              "      width: 32px;\n",
              "    }\n",
              "\n",
              "    .colab-df-convert:hover {\n",
              "      background-color: #E2EBFA;\n",
              "      box-shadow: 0px 1px 2px rgba(60, 64, 67, 0.3), 0px 1px 3px 1px rgba(60, 64, 67, 0.15);\n",
              "      fill: #174EA6;\n",
              "    }\n",
              "\n",
              "    .colab-df-buttons div {\n",
              "      margin-bottom: 4px;\n",
              "    }\n",
              "\n",
              "    [theme=dark] .colab-df-convert {\n",
              "      background-color: #3B4455;\n",
              "      fill: #D2E3FC;\n",
              "    }\n",
              "\n",
              "    [theme=dark] .colab-df-convert:hover {\n",
              "      background-color: #434B5C;\n",
              "      box-shadow: 0px 1px 3px 1px rgba(0, 0, 0, 0.15);\n",
              "      filter: drop-shadow(0px 1px 2px rgba(0, 0, 0, 0.3));\n",
              "      fill: #FFFFFF;\n",
              "    }\n",
              "  </style>\n",
              "\n",
              "    <script>\n",
              "      const buttonEl =\n",
              "        document.querySelector('#df-e1938e38-2217-4b6c-bdb0-093c41247e88 button.colab-df-convert');\n",
              "      buttonEl.style.display =\n",
              "        google.colab.kernel.accessAllowed ? 'block' : 'none';\n",
              "\n",
              "      async function convertToInteractive(key) {\n",
              "        const element = document.querySelector('#df-e1938e38-2217-4b6c-bdb0-093c41247e88');\n",
              "        const dataTable =\n",
              "          await google.colab.kernel.invokeFunction('convertToInteractive',\n",
              "                                                    [key], {});\n",
              "        if (!dataTable) return;\n",
              "\n",
              "        const docLinkHtml = 'Like what you see? Visit the ' +\n",
              "          '<a target=\"_blank\" href=https://colab.research.google.com/notebooks/data_table.ipynb>data table notebook</a>'\n",
              "          + ' to learn more about interactive tables.';\n",
              "        element.innerHTML = '';\n",
              "        dataTable['output_type'] = 'display_data';\n",
              "        await google.colab.output.renderOutput(dataTable, element);\n",
              "        const docLink = document.createElement('div');\n",
              "        docLink.innerHTML = docLinkHtml;\n",
              "        element.appendChild(docLink);\n",
              "      }\n",
              "    </script>\n",
              "  </div>\n",
              "\n",
              "\n",
              "<div id=\"df-ecb4e3e6-3f86-4a4e-9da2-468cfceee433\">\n",
              "  <button class=\"colab-df-quickchart\" onclick=\"quickchart('df-ecb4e3e6-3f86-4a4e-9da2-468cfceee433')\"\n",
              "            title=\"Suggest charts.\"\n",
              "            style=\"display:none;\">\n",
              "\n",
              "<svg xmlns=\"http://www.w3.org/2000/svg\" height=\"24px\"viewBox=\"0 0 24 24\"\n",
              "     width=\"24px\">\n",
              "    <g>\n",
              "        <path d=\"M19 3H5c-1.1 0-2 .9-2 2v14c0 1.1.9 2 2 2h14c1.1 0 2-.9 2-2V5c0-1.1-.9-2-2-2zM9 17H7v-7h2v7zm4 0h-2V7h2v10zm4 0h-2v-4h2v4z\"/>\n",
              "    </g>\n",
              "</svg>\n",
              "  </button>\n",
              "\n",
              "<style>\n",
              "  .colab-df-quickchart {\n",
              "    background-color: #E8F0FE;\n",
              "    border: none;\n",
              "    border-radius: 50%;\n",
              "    cursor: pointer;\n",
              "    display: none;\n",
              "    fill: #1967D2;\n",
              "    height: 32px;\n",
              "    padding: 0 0 0 0;\n",
              "    width: 32px;\n",
              "  }\n",
              "\n",
              "  .colab-df-quickchart:hover {\n",
              "    background-color: #E2EBFA;\n",
              "    box-shadow: 0px 1px 2px rgba(60, 64, 67, 0.3), 0px 1px 3px 1px rgba(60, 64, 67, 0.15);\n",
              "    fill: #174EA6;\n",
              "  }\n",
              "\n",
              "  [theme=dark] .colab-df-quickchart {\n",
              "    background-color: #3B4455;\n",
              "    fill: #D2E3FC;\n",
              "  }\n",
              "\n",
              "  [theme=dark] .colab-df-quickchart:hover {\n",
              "    background-color: #434B5C;\n",
              "    box-shadow: 0px 1px 3px 1px rgba(0, 0, 0, 0.15);\n",
              "    filter: drop-shadow(0px 1px 2px rgba(0, 0, 0, 0.3));\n",
              "    fill: #FFFFFF;\n",
              "  }\n",
              "</style>\n",
              "\n",
              "  <script>\n",
              "    async function quickchart(key) {\n",
              "      const charts = await google.colab.kernel.invokeFunction(\n",
              "          'suggestCharts', [key], {});\n",
              "    }\n",
              "    (() => {\n",
              "      let quickchartButtonEl =\n",
              "        document.querySelector('#df-ecb4e3e6-3f86-4a4e-9da2-468cfceee433 button');\n",
              "      quickchartButtonEl.style.display =\n",
              "        google.colab.kernel.accessAllowed ? 'block' : 'none';\n",
              "    })();\n",
              "  </script>\n",
              "</div>\n",
              "    </div>\n",
              "  </div>\n"
            ],
            "text/plain": [
              "           duration     src_bytes    dst_bytes      land  wrong_fragment  \\\n",
              "class                                                                      \n",
              "anomaly  451.397002  39146.190667  2450.980158  0.000085        0.050924   \n",
              "normal   177.274742  11394.413637  4400.680645  0.000074        0.000000   \n",
              "\n",
              "           urgent       hot  num_failed_logins  logged_in  num_compromised  \\\n",
              "class                                                                        \n",
              "anomaly  0.000085  0.168441           0.001192   0.034829         0.020267   \n",
              "normal   0.000000  0.223883           0.001190   0.709049         0.409101   \n",
              "\n",
              "         ...  dst_host_count  dst_host_srv_count  dst_host_same_srv_rate  \\\n",
              "class    ...                                                               \n",
              "anomaly  ...      221.605297           29.892191                0.187225   \n",
              "normal   ...      148.415273          189.429995                0.810171   \n",
              "\n",
              "         dst_host_diff_srv_rate  dst_host_same_src_port_rate  \\\n",
              "class                                                          \n",
              "anomaly                 0.13025                     0.178134   \n",
              "normal                  0.04088                     0.120663   \n",
              "\n",
              "         dst_host_srv_diff_host_rate  dst_host_serror_rate  \\\n",
              "class                                                        \n",
              "anomaly                     0.039291              0.596063   \n",
              "normal                      0.025342              0.014894   \n",
              "\n",
              "         dst_host_srv_serror_rate  dst_host_rerror_rate  \\\n",
              "class                                                     \n",
              "anomaly                  0.591931              0.201698   \n",
              "normal                   0.007349              0.044545   \n",
              "\n",
              "         dst_host_srv_rerror_rate  \n",
              "class                              \n",
              "anomaly                  0.206045  \n",
              "normal                   0.042565  \n",
              "\n",
              "[2 rows x 38 columns]"
            ]
          },
          "execution_count": 11,
          "metadata": {},
          "output_type": "execute_result"
        }
      ],
      "source": [
        "train.groupby('class').mean()"
      ]
    },
    {
      "cell_type": "code",
      "execution_count": 12,
      "metadata": {
        "id": "SZ4FA8vnzvQB"
      },
      "outputs": [],
      "source": [
        "def le(df):\n",
        "    for col in df.columns:\n",
        "        if df[col].dtype == 'object':\n",
        "                label_encoder = LabelEncoder()\n",
        "                df[col] = label_encoder.fit_transform(df[col])\n",
        "\n",
        "le(train)\n",
        "le(test)"
      ]
    },
    {
      "cell_type": "code",
      "execution_count": 13,
      "metadata": {
        "id": "oKu0193B0NPh"
      },
      "outputs": [],
      "source": [
        "train.drop(['num_outbound_cmds'], axis=1, inplace=True)\n",
        "test.drop(['num_outbound_cmds'], axis=1, inplace=True)"
      ]
    },
    {
      "cell_type": "code",
      "execution_count": 14,
      "metadata": {
        "id": "J7GhDbGG0z5i"
      },
      "outputs": [],
      "source": [
        "X = train.drop(['class'], axis=1)\n",
        "Y = train['class']"
      ]
    },
    {
      "cell_type": "code",
      "execution_count": 16,
      "metadata": {
        "colab": {
          "base_uri": "https://localhost:8080/"
        },
        "id": "qdFEFtIZ2MK7",
        "outputId": "9366d10f-7231-4724-d036-76d35985b912"
      },
      "outputs": [
        {
          "name": "stdout",
          "output_type": "stream",
          "text": [
            "['protocol_type', 'service', 'flag', 'src_bytes', 'dst_bytes', 'count', 'same_srv_rate', 'diff_srv_rate', 'dst_host_same_srv_rate', 'dst_host_diff_srv_rate']\n"
          ]
        }
      ],
      "source": [
        "import itertools\n",
        "\n",
        "# Create a RandomForestClassifier instance\n",
        "rfc = RandomForestClassifier()\n",
        "\n",
        "# Initialize RFE with the classifier and the number of features to select\n",
        "rfe = RFE(rfc, n_features_to_select=10)\n",
        "\n",
        "# Fit RFE to your training data\n",
        "rfe = rfe.fit(X, Y)\n",
        "\n",
        "# Create a feature_map to map selected features to their column names\n",
        "feature_map = [(i, v) for i, v in itertools.zip_longest(rfe.get_support(), X.columns)]\n",
        "\n",
        "# Extract the selected features\n",
        "selected_features = [v for i, v in feature_map if i == True]\n",
        "\n",
        "print(selected_features)"
      ]
    },
    {
      "cell_type": "code",
      "execution_count": 17,
      "metadata": {
        "id": "mLdgEd1g2PMW"
      },
      "outputs": [],
      "source": [
        "X = X[selected_features]"
      ]
    },
    {
      "cell_type": "code",
      "execution_count": 21,
      "metadata": {
        "colab": {
          "base_uri": "https://localhost:8080/",
          "height": 697
        },
        "id": "pAbE1N1tb-Wh",
        "outputId": "2e210137-f7e8-4c24-e482-aafa08efff62"
      },
      "outputs": [
        {
          "data": {
            "image/png": "[encoded data removed]",
            "text/plain": [
              "<Figure size 800x600 with 2 Axes>"
            ]
          },
          "metadata": {},
          "output_type": "display_data"
        }
      ],
      "source": [
        "# Calculate the correlation matrix\n",
        "correlation_matrix = X.corr()\n",
        "\n",
        "# Create a heatmap using seaborn\n",
        "plt.figure(figsize=(8, 6))  # Adjust the figure size as needed\n",
        "sns.heatmap(correlation_matrix, annot=True, cmap='coolwarm',fmt=\".1f\", linewidths=.5)\n",
        "plt.title('Correlation Heatmap')\n",
        "plt.show()"
      ]
    },
    {
      "cell_type": "code",
      "execution_count": 19,
      "metadata": {
        "id": "Cvn1lOGrW06I"
      },
      "outputs": [],
      "source": [
        "from sklearn.model_selection import train_test_split\n",
        "X_train, X_test, Y_train, Y_test = train_test_split(X, Y, train_size=0.80, random_state=2)"
      ]
    },
    {
      "cell_type": "code",
      "execution_count": 20,
      "metadata": {
        "id": "phGQ6uzV3gML"
      },
      "outputs": [],
      "source": [
        "# Create a StandardScaler instance\n",
        "scaler = StandardScaler()\n",
        "\n",
        "# Fit the scaler on the training data and transform it\n",
        "X_train = scaler.fit_transform(X_train)\n",
        "\n",
        "# Use the same scaler to transform the test data\n",
        "X_test = scaler.transform(X_test)"
      ]
    },
    {
      "cell_type": "markdown",
      "metadata": {
        "id": "Vg9czvYj6Mvl"
      },
      "source": [
        "# Logestic regression"
      ]
    },
    {
      "cell_type": "code",
      "execution_count": 22,
      "metadata": {
        "colab": {
          "base_uri": "https://localhost:8080/"
        },
        "id": "aTqktp3n9Db_",
        "outputId": "2d4d49e9-b291-4662-b4a8-681d23a44450"
      },
      "outputs": [
        {
          "name": "stdout",
          "output_type": "stream",
          "text": [
            "Training time:  0.07287359237670898\n"
          ]
        }
      ],
      "source": [
        "lg_model = LogisticRegression(random_state = 42,C=0.1)\n",
        "start_time = time.time()\n",
        "lg_model.fit(X_train, Y_train)\n",
        "end_time = time.time()\n",
        "lg_time=end_time-start_time\n",
        "print(\"Training time: \",lg_time )"
      ]
    },
    {
      "cell_type": "code",
      "execution_count": 23,
      "metadata": {
        "colab": {
          "base_uri": "https://localhost:8080/"
        },
        "id": "orvDSk2O6cZb",
        "outputId": "42f45da9-f625-4443-93e7-0a4bae07d956"
      },
      "outputs": [
        {
          "name": "stdout",
          "output_type": "stream",
          "text": [
            "Training Score: 0.9444747680246117\n",
            "Test Score: 0.9372891446715618\n"
          ]
        }
      ],
      "source": [
        "lg_train, lg_test = lg_model.score(X_train , Y_train), lg_model.score(X_test , Y_test)\n",
        "\n",
        "print(f\"Training Score: {lg_train}\")\n",
        "print(f\"Test Score: {lg_test}\")"
      ]
    },
    {
      "cell_type": "markdown",
      "metadata": {
        "id": "xotsQTyC6qlh"
      },
      "source": [
        "# KNN"
      ]
    },
    {
      "cell_type": "code",
      "execution_count": 24,
      "metadata": {
        "id": "GmYHYSUqG99y"
      },
      "outputs": [],
      "source": [
        "knn = KNeighborsClassifier()\n",
        "params = {'n_neighbors': range(1, 20, 2)}  # Try odd values of k\n",
        "grid_search = GridSearchCV(knn, params, cv=5)\n",
        "grid_search.fit(X_test, Y_test)\n",
        "best_k = grid_search.best_params_['n_neighbors']"
      ]
    },
    {
      "cell_type": "code",
      "execution_count": 25,
      "metadata": {
        "colab": {
          "base_uri": "https://localhost:8080/"
        },
        "id": "SZC1LS4R9xMk",
        "outputId": "9353b99a-23ed-4724-8ded-9c4c3e45d9fe"
      },
      "outputs": [
        {
          "name": "stdout",
          "output_type": "stream",
          "text": [
            "Traning time:  0.030072450637817383\n"
          ]
        }
      ],
      "source": [
        "KNN_model = KNeighborsClassifier(n_neighbors=best_k)\n",
        "start_time = time.time()\n",
        "KNN_model.fit(X_train, Y_train)\n",
        "end_time = time.time()\n",
        "KNN_time=end_time-start_time\n",
        "print(\"Traning time: \", KNN_time)"
      ]
    },
    {
      "cell_type": "code",
      "execution_count": 26,
      "metadata": {
        "colab": {
          "base_uri": "https://localhost:8080/"
        },
        "id": "k4AGD5sG95ef",
        "outputId": "a59e3dd6-a40f-4582-ef78-e297da9abf0a"
      },
      "outputs": [
        {
          "name": "stdout",
          "output_type": "stream",
          "text": [
            "Train Score: 0.9999007591921798\n",
            "Test Score: 0.9902758483826156\n"
          ]
        }
      ],
      "source": [
        "KNN_train, KNN_test = KNN_model.score(X_train, Y_train), KNN_model.score(X_test, Y_test)\n",
        "\n",
        "print(f\"Train Score: {KNN_train}\")\n",
        "print(f\"Test Score: {KNN_test}\")"
      ]
    },
    {
      "cell_type": "markdown",
      "metadata": {
        "id": "n9vf3m-i7Rfq"
      },
      "source": [
        "# Decison tree"
      ]
    },
    {
      "cell_type": "code",
      "execution_count": 27,
      "metadata": {
        "colab": {
          "base_uri": "https://localhost:8080/"
        },
        "id": "nH_fS2Ys-sno",
        "outputId": "172fa357-7cb5-46f6-eb70-2f27532277b9"
      },
      "outputs": [
        {
          "name": "stdout",
          "output_type": "stream",
          "text": [
            "Traning time:  0.04096817970275879\n"
          ]
        }
      ],
      "source": [
        "dt = DecisionTreeClassifier()\n",
        "start_time = time.time()\n",
        "dt.fit(X_train, Y_train)\n",
        "end_time = time.time()\n",
        "dt_time=end_time-start_time\n",
        "print(\"Traning time: \", dt_time)"
      ]
    },
    {
      "cell_type": "code",
      "execution_count": 28,
      "metadata": {
        "colab": {
          "base_uri": "https://localhost:8080/"
        },
        "id": "do3wTgTw7kEK",
        "outputId": "cd92899d-bd21-40cf-a667-55572bcee532"
      },
      "outputs": [
        {
          "name": "stdout",
          "output_type": "stream",
          "text": [
            "Train Score: 0.9999007591921798\n",
            "Test Score: 0.9954356023020441\n"
          ]
        }
      ],
      "source": [
        "dt_train, dt_test = dt.score(X_train, Y_train), dt.score(X_test, Y_test)\n",
        "\n",
        "print(f\"Train Score: {dt_train}\")\n",
        "print(f\"Test Score: {dt_test}\")"
      ]
    },
    {
      "cell_type": "markdown",
      "metadata": {
        "id": "I0slqdb4_b6b"
      },
      "source": [
        "# Neural network"
      ]
    },
    {
      "cell_type": "code",
      "execution_count": 30,
      "metadata": {
        "id": "MtBuPG_HAHAa"
      },
      "outputs": [],
      "source": [
        "m,n=X_train.shape"
      ]
    },
    {
      "cell_type": "code",
      "execution_count": 31,
      "metadata": {
        "id": "2yTB8a2jVkfN"
      },
      "outputs": [],
      "source": [
        "import tensorflow as tf\n",
        "from tensorflow.keras.models import Sequential\n",
        "from tensorflow.keras.layers import InputLayer, Dense, Dropout, BatchNormalization\n",
        "from tensorflow.keras.optimizers import Adam\n",
        "from tensorflow.keras.losses import BinaryCrossentropy\n",
        "\n",
        "# Set the seed for consistent results\n",
        "tf.random.set_seed(1234)\n",
        "\n",
        "# Create a Sequential model\n",
        "ANN = Sequential()\n",
        "\n",
        "# Input Layer\n",
        "ANN.add(InputLayer(input_shape=(n,)))\n",
        "\n",
        "# Hidden Layers\n",
        "ANN.add(Dense(128, activation=\"relu\", kernel_regularizer=tf.keras.regularizers.l2(0.001)))\n",
        "ANN.add(BatchNormalization())  # Adding batch normalization\n",
        "ANN.add(Dropout(0.5))  # Adding dropout for regularization\n",
        "\n",
        "ANN.add(Dense(64, activation=\"relu\", kernel_regularizer=tf.keras.regularizers.l2(0.001)))\n",
        "ANN.add(BatchNormalization())\n",
        "ANN.add(Dropout(0.5))\n",
        "\n",
        "# Output Layer\n",
        "ANN.add(Dense(1, activation=\"linear\"))  # Using sigmoid activation for binary classification\n",
        "\n",
        "# Compile the model\n",
        "ANN.compile(\n",
        "    loss=BinaryCrossentropy(),\n",
        "    optimizer=Adam(),  # Adjust learning rate as needed\n",
        "    metrics=[\"accuracy\"]  # Monitor accuracy during training\n",
        ")\n"
      ]
    },
    {
      "cell_type": "code",
      "execution_count": 32,
      "metadata": {
        "colab": {
          "base_uri": "https://localhost:8080/"
        },
        "id": "A2MYWdVsANTB",
        "outputId": "a4a0709f-87f0-4cad-c2e8-973be70642ba"
      },
      "outputs": [
        {
          "name": "stdout",
          "output_type": "stream",
          "text": [
            "Model: \"sequential\"\n",
            "_________________________________________________________________\n",
            " Layer (type)                Output Shape              Param #   \n",
            "=================================================================\n",
            " dense (Dense)               (None, 128)               1408      \n",
            "                                                                 \n",
            " batch_normalization (BatchN  (None, 128)              512       \n",
            " ormalization)                                                   \n",
            "                                                                 \n",
            " dropout (Dropout)           (None, 128)               0         \n",
            "                                                                 \n",
            " dense_1 (Dense)             (None, 64)                8256      \n",
            "                                                                 \n",
            " batch_normalization_1 (Batc  (None, 64)               256       \n",
            " hNormalization)                                                 \n",
            "                                                                 \n",
            " dropout_1 (Dropout)         (None, 64)                0         \n",
            "                                                                 \n",
            " dense_2 (Dense)             (None, 1)                 65        \n",
            "                                                                 \n",
            "=================================================================\n",
            "Total params: 10,497\n",
            "Trainable params: 10,113\n",
            "Non-trainable params: 384\n",
            "_________________________________________________________________\n"
          ]
        }
      ],
      "source": [
        "ANN.summary()"
      ]
    },
    {
      "cell_type": "code",
      "execution_count": 33,
      "metadata": {
        "colab": {
          "base_uri": "https://localhost:8080/"
        },
        "id": "AiNKsfkuAUOl",
        "outputId": "4b7aafdd-64fe-4c2f-9ff9-2c6973c82be5"
      },
      "outputs": [
        {
          "name": "stdout",
          "output_type": "stream",
          "text": [
            "Epoch 1/100\n",
            "807/807 [==============================] - 5s 3ms/step - loss: 1.3942 - accuracy: 0.8988\n",
            "Epoch 2/100\n",
            "807/807 [==============================] - 2s 2ms/step - loss: 1.1098 - accuracy: 0.9254\n",
            "Epoch 3/100\n",
            "807/807 [==============================] - 2s 2ms/step - loss: 1.0286 - accuracy: 0.9324\n",
            "Epoch 4/100\n",
            "807/807 [==============================] - 2s 2ms/step - loss: 1.0171 - accuracy: 0.9327\n",
            "Epoch 5/100\n",
            "807/807 [==============================] - 2s 2ms/step - loss: 0.9559 - accuracy: 0.9362\n",
            "Epoch 6/100\n",
            "807/807 [==============================] - 2s 3ms/step - loss: 1.0723 - accuracy: 0.9232\n",
            "Epoch 7/100\n",
            "807/807 [==============================] - 2s 3ms/step - loss: 0.9819 - accuracy: 0.9342\n",
            "Epoch 8/100\n",
            "807/807 [==============================] - 2s 2ms/step - loss: 0.9192 - accuracy: 0.9391\n",
            "Epoch 9/100\n",
            "807/807 [==============================] - 2s 2ms/step - loss: 0.8663 - accuracy: 0.9426\n",
            "Epoch 10/100\n",
            "807/807 [==============================] - 2s 2ms/step - loss: 0.8454 - accuracy: 0.9444\n",
            "Epoch 11/100\n",
            "807/807 [==============================] - 2s 2ms/step - loss: 0.8441 - accuracy: 0.9445\n",
            "Epoch 12/100\n",
            "807/807 [==============================] - 2s 2ms/step - loss: 0.8661 - accuracy: 0.9437\n",
            "Epoch 13/100\n",
            "807/807 [==============================] - 3s 3ms/step - loss: 0.8202 - accuracy: 0.9476\n",
            "Epoch 14/100\n",
            "807/807 [==============================] - 2s 3ms/step - loss: 0.8323 - accuracy: 0.9462\n",
            "Epoch 15/100\n",
            "807/807 [==============================] - 2s 2ms/step - loss: 0.8461 - accuracy: 0.9457\n",
            "Epoch 16/100\n",
            "807/807 [==============================] - 2s 2ms/step - loss: 0.7777 - accuracy: 0.9506\n",
            "Epoch 17/100\n",
            "807/807 [==============================] - 2s 2ms/step - loss: 0.7554 - accuracy: 0.9523\n",
            "Epoch 18/100\n",
            "807/807 [==============================] - 2s 2ms/step - loss: 0.7891 - accuracy: 0.9489\n",
            "Epoch 19/100\n",
            "807/807 [==============================] - 2s 3ms/step - loss: 0.7628 - accuracy: 0.9505\n",
            "Epoch 20/100\n",
            "807/807 [==============================] - 3s 3ms/step - loss: 0.7538 - accuracy: 0.9521\n",
            "Epoch 21/100\n",
            "807/807 [==============================] - 2s 2ms/step - loss: 0.7509 - accuracy: 0.9519\n",
            "Epoch 22/100\n",
            "807/807 [==============================] - 2s 2ms/step - loss: 0.7463 - accuracy: 0.9527\n",
            "Epoch 23/100\n",
            "807/807 [==============================] - 2s 2ms/step - loss: 0.7397 - accuracy: 0.9527\n",
            "Epoch 24/100\n",
            "807/807 [==============================] - 2s 2ms/step - loss: 0.7247 - accuracy: 0.9541\n",
            "Epoch 25/100\n",
            "807/807 [==============================] - 2s 2ms/step - loss: 0.7584 - accuracy: 0.9501\n",
            "Epoch 26/100\n",
            "807/807 [==============================] - 3s 3ms/step - loss: 0.7460 - accuracy: 0.9527\n",
            "Epoch 27/100\n",
            "807/807 [==============================] - 2s 3ms/step - loss: 0.7308 - accuracy: 0.9529\n",
            "Epoch 28/100\n",
            "807/807 [==============================] - 2s 2ms/step - loss: 0.7422 - accuracy: 0.9522\n",
            "Epoch 29/100\n",
            "807/807 [==============================] - 2s 2ms/step - loss: 0.7033 - accuracy: 0.9551\n",
            "Epoch 30/100\n",
            "807/807 [==============================] - 2s 2ms/step - loss: 0.7479 - accuracy: 0.9510\n",
            "Epoch 31/100\n",
            "807/807 [==============================] - 2s 2ms/step - loss: 0.6877 - accuracy: 0.9562\n",
            "Epoch 32/100\n",
            "807/807 [==============================] - 2s 3ms/step - loss: 0.7203 - accuracy: 0.9535\n",
            "Epoch 33/100\n",
            "807/807 [==============================] - 3s 3ms/step - loss: 0.7096 - accuracy: 0.9548\n",
            "Epoch 34/100\n",
            "807/807 [==============================] - 2s 2ms/step - loss: 0.7483 - accuracy: 0.9517\n",
            "Epoch 35/100\n",
            "807/807 [==============================] - 2s 2ms/step - loss: 0.7295 - accuracy: 0.9524\n",
            "Epoch 36/100\n",
            "807/807 [==============================] - 2s 2ms/step - loss: 0.8131 - accuracy: 0.9447\n",
            "Epoch 37/100\n",
            "807/807 [==============================] - 2s 2ms/step - loss: 0.7534 - accuracy: 0.9505\n",
            "Epoch 38/100\n",
            "807/807 [==============================] - 2s 2ms/step - loss: 0.7250 - accuracy: 0.9535\n",
            "Epoch 39/100\n",
            "807/807 [==============================] - 3s 3ms/step - loss: 0.7423 - accuracy: 0.9519\n",
            "Epoch 40/100\n",
            "807/807 [==============================] - 2s 3ms/step - loss: 0.7526 - accuracy: 0.9523\n",
            "Epoch 41/100\n",
            "807/807 [==============================] - 2s 2ms/step - loss: 0.7806 - accuracy: 0.9502\n",
            "Epoch 42/100\n",
            "807/807 [==============================] - 2s 2ms/step - loss: 0.7358 - accuracy: 0.9536\n",
            "Epoch 43/100\n",
            "807/807 [==============================] - 2s 2ms/step - loss: 0.7240 - accuracy: 0.9546\n",
            "Epoch 44/100\n",
            "807/807 [==============================] - 2s 2ms/step - loss: 0.6781 - accuracy: 0.9576\n",
            "Epoch 45/100\n",
            "807/807 [==============================] - 2s 3ms/step - loss: 0.6642 - accuracy: 0.9569\n",
            "Epoch 46/100\n",
            "807/807 [==============================] - 3s 4ms/step - loss: 0.6625 - accuracy: 0.9588\n",
            "Epoch 47/100\n",
            "807/807 [==============================] - 2s 3ms/step - loss: 0.6528 - accuracy: 0.9592\n",
            "Epoch 48/100\n",
            "807/807 [==============================] - 2s 2ms/step - loss: 0.6887 - accuracy: 0.9559\n",
            "Epoch 49/100\n",
            "807/807 [==============================] - 2s 2ms/step - loss: 0.6911 - accuracy: 0.9563\n",
            "Epoch 50/100\n",
            "807/807 [==============================] - 2s 2ms/step - loss: 0.6495 - accuracy: 0.9579\n",
            "Epoch 51/100\n",
            "807/807 [==============================] - 2s 2ms/step - loss: 0.6828 - accuracy: 0.9556\n",
            "Epoch 52/100\n",
            "807/807 [==============================] - 2s 2ms/step - loss: 0.6940 - accuracy: 0.9547\n",
            "Epoch 53/100\n",
            "807/807 [==============================] - 3s 3ms/step - loss: 0.7711 - accuracy: 0.9496\n",
            "Epoch 54/100\n",
            "807/807 [==============================] - 2s 2ms/step - loss: 0.7216 - accuracy: 0.9537\n",
            "Epoch 55/100\n",
            "807/807 [==============================] - 2s 2ms/step - loss: 0.6947 - accuracy: 0.9545\n",
            "Epoch 56/100\n",
            "807/807 [==============================] - 2s 2ms/step - loss: 0.6609 - accuracy: 0.9577\n",
            "Epoch 57/100\n",
            "807/807 [==============================] - 2s 2ms/step - loss: 0.7183 - accuracy: 0.9535\n",
            "Epoch 58/100\n",
            "807/807 [==============================] - 2s 2ms/step - loss: 0.6673 - accuracy: 0.9576\n",
            "Epoch 59/100\n",
            "807/807 [==============================] - 3s 3ms/step - loss: 0.6607 - accuracy: 0.9581\n",
            "Epoch 60/100\n",
            "807/807 [==============================] - 2s 3ms/step - loss: 0.6848 - accuracy: 0.9549\n",
            "Epoch 61/100\n",
            "807/807 [==============================] - 2s 2ms/step - loss: 0.6661 - accuracy: 0.9579\n",
            "Epoch 62/100\n",
            "807/807 [==============================] - 2s 2ms/step - loss: 0.6775 - accuracy: 0.9570\n",
            "Epoch 63/100\n",
            "807/807 [==============================] - 2s 2ms/step - loss: 0.6557 - accuracy: 0.9592\n",
            "Epoch 64/100\n",
            "807/807 [==============================] - 2s 2ms/step - loss: 0.6548 - accuracy: 0.9578\n",
            "Epoch 65/100\n",
            "807/807 [==============================] - 2s 2ms/step - loss: 0.6609 - accuracy: 0.9563\n",
            "Epoch 66/100\n",
            "807/807 [==============================] - 3s 4ms/step - loss: 0.6424 - accuracy: 0.9574\n",
            "Epoch 67/100\n",
            "807/807 [==============================] - 2s 2ms/step - loss: 0.6952 - accuracy: 0.9544\n",
            "Epoch 68/100\n",
            "807/807 [==============================] - 2s 2ms/step - loss: 0.6411 - accuracy: 0.9584\n",
            "Epoch 69/100\n",
            "807/807 [==============================] - 2s 2ms/step - loss: 0.6235 - accuracy: 0.9586\n",
            "Epoch 70/100\n",
            "807/807 [==============================] - 2s 2ms/step - loss: 0.6543 - accuracy: 0.9569\n",
            "Epoch 71/100\n",
            "807/807 [==============================] - 2s 2ms/step - loss: 0.6409 - accuracy: 0.9577\n",
            "Epoch 72/100\n",
            "807/807 [==============================] - 2s 3ms/step - loss: 0.6152 - accuracy: 0.9591\n",
            "Epoch 73/100\n",
            "807/807 [==============================] - 2s 3ms/step - loss: 0.6506 - accuracy: 0.9571\n",
            "Epoch 74/100\n",
            "807/807 [==============================] - 2s 2ms/step - loss: 0.6665 - accuracy: 0.9555\n",
            "Epoch 75/100\n",
            "807/807 [==============================] - 2s 2ms/step - loss: 0.6422 - accuracy: 0.9571\n",
            "Epoch 76/100\n",
            "807/807 [==============================] - 2s 2ms/step - loss: 0.6614 - accuracy: 0.9566\n",
            "Epoch 77/100\n",
            "807/807 [==============================] - 2s 2ms/step - loss: 0.6197 - accuracy: 0.9590\n",
            "Epoch 78/100\n",
            "807/807 [==============================] - 2s 2ms/step - loss: 0.6122 - accuracy: 0.9606\n",
            "Epoch 79/100\n",
            "807/807 [==============================] - 3s 3ms/step - loss: 0.6069 - accuracy: 0.9604\n",
            "Epoch 80/100\n",
            "807/807 [==============================] - 2s 2ms/step - loss: 0.6176 - accuracy: 0.9592\n",
            "Epoch 81/100\n",
            "807/807 [==============================] - 2s 2ms/step - loss: 0.6104 - accuracy: 0.9603\n",
            "Epoch 82/100\n",
            "807/807 [==============================] - 2s 2ms/step - loss: 0.6312 - accuracy: 0.9582\n",
            "Epoch 83/100\n",
            "807/807 [==============================] - 2s 2ms/step - loss: 0.6562 - accuracy: 0.9569\n",
            "Epoch 84/100\n",
            "807/807 [==============================] - 2s 2ms/step - loss: 0.6676 - accuracy: 0.9561\n",
            "Epoch 85/100\n",
            "807/807 [==============================] - 2s 3ms/step - loss: 0.6243 - accuracy: 0.9590\n",
            "Epoch 86/100\n",
            "807/807 [==============================] - 2s 3ms/step - loss: 0.6731 - accuracy: 0.9557\n",
            "Epoch 87/100\n",
            "807/807 [==============================] - 2s 2ms/step - loss: 0.7031 - accuracy: 0.9521\n",
            "Epoch 88/100\n",
            "807/807 [==============================] - 2s 2ms/step - loss: 0.6565 - accuracy: 0.9562\n",
            "Epoch 89/100\n",
            "807/807 [==============================] - 2s 2ms/step - loss: 0.6529 - accuracy: 0.9577\n",
            "Epoch 90/100\n",
            "807/807 [==============================] - 2s 2ms/step - loss: 0.6334 - accuracy: 0.9580\n",
            "Epoch 91/100\n",
            "807/807 [==============================] - 2s 2ms/step - loss: 0.6651 - accuracy: 0.9557\n",
            "Epoch 92/100\n",
            "807/807 [==============================] - 3s 3ms/step - loss: 0.6776 - accuracy: 0.9550\n",
            "Epoch 93/100\n",
            "807/807 [==============================] - 2s 2ms/step - loss: 0.6720 - accuracy: 0.9559\n",
            "Epoch 94/100\n",
            "807/807 [==============================] - 2s 2ms/step - loss: 0.6822 - accuracy: 0.9548\n",
            "Epoch 95/100\n",
            "807/807 [==============================] - 2s 2ms/step - loss: 0.6689 - accuracy: 0.9561\n",
            "Epoch 96/100\n",
            "807/807 [==============================] - 2s 2ms/step - loss: 0.7041 - accuracy: 0.9537\n",
            "Epoch 97/100\n",
            "807/807 [==============================] - 2s 2ms/step - loss: 0.6577 - accuracy: 0.9571\n",
            "Epoch 98/100\n",
            "807/807 [==============================] - 2s 3ms/step - loss: 0.6315 - accuracy: 0.9581\n",
            "Epoch 99/100\n",
            "807/807 [==============================] - 2s 3ms/step - loss: 0.6409 - accuracy: 0.9576\n",
            "Epoch 100/100\n",
            "807/807 [==============================] - 2s 2ms/step - loss: 0.6511 - accuracy: 0.9573\n"
          ]
        }
      ],
      "source": [
        "start_time = time.time()\n",
        "hist=ANN.fit(X_train,Y_train,batch_size=25,epochs=100)\n",
        "end_time = time.time()\n",
        "ANN_time=end_time-start_time"
      ]
    },
    {
      "cell_type": "code",
      "execution_count": 34,
      "metadata": {
        "colab": {
          "base_uri": "https://localhost:8080/"
        },
        "id": "2SsfVCcuBXZq",
        "outputId": "a998ce3d-9805-4b45-81b3-6bc7806af09b"
      },
      "outputs": [
        {
          "name": "stdout",
          "output_type": "stream",
          "text": [
            "206.71567296981812\n"
          ]
        }
      ],
      "source": [
        "print(ANN_time)"
      ]
    },
    {
      "cell_type": "code",
      "execution_count": 35,
      "metadata": {
        "id": "3g9kDJNQBieI"
      },
      "outputs": [],
      "source": [
        "def widgvis(fig):\n",
        "    fig.canvas.toolbar_visible = False\n",
        "    fig.canvas.header_visible = False\n",
        "    fig.canvas.footer_visible = False"
      ]
    },
    {
      "cell_type": "code",
      "execution_count": 36,
      "metadata": {
        "id": "LWhIjeHZBeLu"
      },
      "outputs": [],
      "source": [
        "def plot_loss_tf(history):\n",
        "    fig,ax = plt.subplots(1,1, figsize = (4,3))\n",
        "    widgvis(fig)\n",
        "    ax.plot(history.history['loss'], label='loss')\n",
        "    ax.set_ylim([0,2.0])\n",
        "    ax.set_xlabel('Epoch')\n",
        "    ax.set_ylabel('loss (cost)')\n",
        "    ax.legend()\n",
        "    ax.grid(True)\n",
        "    plt.show()"
      ]
    },
    {
      "cell_type": "code",
      "execution_count": 37,
      "metadata": {
        "colab": {
          "base_uri": "https://localhost:8080/",
          "height": 316
        },
        "id": "M_M4zUH0BgJx",
        "outputId": "7dfd37da-3099-42ca-dd58-d7a3c6009e15"
      },
      "outputs": [
        {
          "data": {
            "image/png": "[encoded data removed]",
            "text/plain": [
              "<Figure size 400x300 with 1 Axes>"
            ]
          },
          "metadata": {},
          "output_type": "display_data"
        }
      ],
      "source": [
        "plot_loss_tf(hist)"
      ]
    },
    {
      "cell_type": "code",
      "execution_count": 38,
      "metadata": {
        "id": "kq7U1MD9Eo_l"
      },
      "outputs": [],
      "source": [
        "def prd(f_x):\n",
        "  ans=[]\n",
        "  for i in f_x:\n",
        "    if i>=0.5:\n",
        "      ans.append(1)\n",
        "    else:\n",
        "      ans.append(0)\n",
        "  return ans"
      ]
    },
    {
      "cell_type": "code",
      "execution_count": 39,
      "metadata": {
        "colab": {
          "base_uri": "https://localhost:8080/"
        },
        "id": "RKIGMYnVB0dv",
        "outputId": "2c46aeee-05f9-4d10-afae-9a0059917cf1"
      },
      "outputs": [
        {
          "name": "stdout",
          "output_type": "stream",
          "text": [
            "630/630 [==============================] - 1s 1ms/step\n",
            "158/158 [==============================] - 0s 1ms/step\n",
            "0.9633801419143552 0.9624925580472316\n"
          ]
        }
      ],
      "source": [
        "from sklearn.metrics import accuracy_score\n",
        "l_train, l_test = ANN.predict(X_train), ANN.predict(X_test)\n",
        "p_train=tf.nn.sigmoid(l_train)\n",
        "p_test=tf.nn.sigmoid(l_test)\n",
        "ANN_train=accuracy_score(prd(p_train),Y_train)\n",
        "ANN_test=accuracy_score(prd(p_test),Y_test)\n",
        "print(ANN_train,ANN_test)"
      ]
    },
    {
      "cell_type": "code",
      "execution_count": 40,
      "metadata": {
        "colab": {
          "base_uri": "https://localhost:8080/"
        },
        "id": "nesxs8lj7r5g",
        "outputId": "2acc2f60-534f-41df-98b0-3650dc00c263"
      },
      "outputs": [
        {
          "name": "stdout",
          "output_type": "stream",
          "text": [
            "╒═══════════════════════════╤═══════════════╤══════════════╤═════════════════╕\n",
            "│ Model                     │   Train Score │   Test Score │   Training time │\n",
            "╞═══════════════════════════╪═══════════════╪══════════════╪═════════════════╡\n",
            "│ KNN                       │      0.999901 │     0.990276 │       0.0300725 │\n",
            "├───────────────────────────┼───────────────┼──────────────┼─────────────────┤\n",
            "│ Logistic Regression       │      0.944475 │     0.937289 │       0.0728736 │\n",
            "├───────────────────────────┼───────────────┼──────────────┼─────────────────┤\n",
            "│ Decision Tree             │      0.999901 │     0.995436 │       0.0409682 │\n",
            "├───────────────────────────┼───────────────┼──────────────┼─────────────────┤\n",
            "│ Artificial Neural Network │      0.96338  │     0.962493 │     206.716     │\n",
            "╘═══════════════════════════╧═══════════════╧══════════════╧═════════════════╛\n"
          ]
        }
      ],
      "source": [
        "data = [[\"KNN\", KNN_train, KNN_test,KNN_time],\n",
        "        [\"Logistic Regression\", lg_train, lg_test,lg_time],\n",
        "        [\"Decision Tree\", dt_train, dt_test,dt_time],\n",
        "        [\"Artificial Neural Network\",ANN_train,ANN_test,ANN_time]]\n",
        "\n",
        "col_names = [\"Model\", \"Train Score\", \"Test Score\",\"Training time\"]\n",
        "print(tabulate(data, headers=col_names, tablefmt=\"fancy_grid\"))"
      ]
    },
    {
      "cell_type": "code",
      "execution_count": 40,
      "metadata": {
        "id": "AQKYClwh7wxD"
      },
      "outputs": [],
      "source": []
    }
  ],
  "metadata": {
    "colab": {
      "provenance": []
    },
    "kernelspec": {
      "display_name": "Python 3",
      "name": "python3"
    },
    "language_info": {
      "name": "python"
    }
  },
  "nbformat": 4,
  "nbformat_minor": 0
}
